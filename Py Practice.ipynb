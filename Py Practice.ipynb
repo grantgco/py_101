{
 "cells": [
  {
   "cell_type": "markdown",
   "id": "5031de79",
   "metadata": {},
   "source": [
    "## Strings - Splitting"
   ]
  },
  {
   "cell_type": "code",
   "execution_count": 1,
   "id": "05484a15",
   "metadata": {
    "scrolled": true
   },
   "outputs": [
    {
     "name": "stdout",
     "output_type": "stream",
     "text": [
      "['Audre Lorde', 'Gabriela Mistral', 'Jean Toomer', 'An Qi', 'Walt Whitman', 'Shel Silverstein', 'Carmen Boullosa', 'Kamala Suraiyya', 'Langston Hughes', 'Adrienne Rich', 'Nikki Giovanni']\n"
     ]
    }
   ],
   "source": [
    "authors = \"Audre Lorde,Gabriela Mistral,Jean Toomer,An Qi,Walt Whitman,Shel Silverstein,Carmen Boullosa,Kamala Suraiyya,Langston Hughes,Adrienne Rich,Nikki Giovanni\"\n",
    "\n",
    "author_names = authors.split(\",\")\n",
    "\n",
    "print(author_names)"
   ]
  },
  {
   "cell_type": "code",
   "execution_count": 12,
   "id": "e25c191b",
   "metadata": {},
   "outputs": [
    {
     "name": "stdout",
     "output_type": "stream",
     "text": [
      "[['Audre', 'Lorde'], ['Gabriela', 'Mistral'], ['Jean', 'Toomer'], ['An', 'Qi'], ['Walt', 'Whitman'], ['Shel', 'Silverstein'], ['Carmen', 'Boullosa'], ['Kamala', 'Suraiyya'], ['Langston', 'Hughes'], ['Adrienne', 'Rich'], ['Nikki', 'Giovanni']]\n"
     ]
    }
   ],
   "source": [
    "authors_split = []\n",
    "for i in author_names:\n",
    "    x = i.split()\n",
    "    authors_split.append(x)\n",
    "\n",
    "print(authors_split)"
   ]
  },
  {
   "cell_type": "code",
   "execution_count": 13,
   "id": "2eefafba",
   "metadata": {},
   "outputs": [
    {
     "name": "stdout",
     "output_type": "stream",
     "text": [
      "['Lorde', 'Mistral', 'Toomer', 'Qi', 'Whitman', 'Silverstein', 'Boullosa', 'Suraiyya', 'Hughes', 'Rich', 'Giovanni']\n"
     ]
    }
   ],
   "source": [
    "last_names_only = []\n",
    "\n",
    "count = 0 \n",
    "name = \"\"\n",
    "\n",
    "for i in authors_split:\n",
    "    name = authors_split[count][-1]\n",
    "    last_names_only.append(name)\n",
    "    count += 1\n",
    "\n",
    "print(last_names_only)"
   ]
  },
  {
   "cell_type": "markdown",
   "id": "1003ce06",
   "metadata": {},
   "source": [
    "## Join "
   ]
  },
  {
   "cell_type": "code",
   "execution_count": null,
   "id": "765fb1c2",
   "metadata": {},
   "outputs": [],
   "source": [
    "reapers_line_one_words = [\"Black\", \"reapers\", \"with\", \"the\", \"sound\", \"of\", \"steel\", \"on\", \"stones\"]\n",
    "\n",
    "reapers_line_one = ' '.join(reapers_line_one_words)"
   ]
  },
  {
   "cell_type": "code",
   "execution_count": 14,
   "id": "c98af536",
   "metadata": {},
   "outputs": [
    {
     "name": "stdout",
     "output_type": "stream",
     "text": [
      "All the complicated details\n",
      "of the attiring and\n",
      "the disattiring are completed!\n",
      "A liquid moon\n",
      "moves gently among\n",
      "the long branches.\n",
      "Thus having prepared their buds\n",
      "against a sure winter\n",
      "the wise trees\n",
      "stand sleeping in the cold.\n"
     ]
    }
   ],
   "source": [
    "winter_trees_lines = ['All the complicated details', 'of the attiring and', 'the disattiring are completed!', 'A liquid moon', 'moves gently among', 'the long branches.', 'Thus having prepared their buds', 'against a sure winter', 'the wise trees', 'stand sleeping in the cold.']\n",
    "\n",
    "winter_trees_full = '\\n'.join(winter_trees_lines)\n",
    "\n",
    "print(winter_trees_full)"
   ]
  },
  {
   "cell_type": "code",
   "execution_count": null,
   "id": "ba6252b1",
   "metadata": {},
   "outputs": [],
   "source": [
    "love_maybe_lines = ['Always    ', '     in the middle of our bloodiest battles  ', 'you lay down your arms', '           like flowering mines    ','\\n' ,'   to conquer me home.    ']\n",
    "\n",
    "love_maybe_lines_stripped = []\n",
    "text = \"\"\n",
    "count = 0 \n",
    "\n",
    "for i in love_maybe_lines:\n",
    "  text = love_maybe_lines[count].strip()\n",
    "  love_maybe_lines_stripped.append(text)\n",
    "  count += 1\n",
    "\n",
    "print(love_maybe_lines_stripped)"
   ]
  },
  {
   "cell_type": "code",
   "execution_count": null,
   "id": "1cde2806",
   "metadata": {},
   "outputs": [],
   "source": [
    "love_maybe_lines = ['Always    ', '     in the middle of our bloodiest battles  ', 'you lay down your arms', '           like flowering mines    ','\\n' ,'   to conquer me home.    ']\n",
    "\n",
    "love_maybe_lines_stripped = []\n",
    "text = \"\"\n",
    "count = 0 \n",
    "\n",
    "for i in love_maybe_lines:\n",
    "  text = love_maybe_lines[count].strip()\n",
    "  love_maybe_lines_stripped.append(text)\n",
    "  count += 1\n",
    "\n",
    "print(love_maybe_lines_stripped)\n",
    "\n",
    "love_maybe_full = \"\\n\".join(love_maybe_lines_stripped)\n",
    "\n",
    "print(love_maybe_full)"
   ]
  },
  {
   "cell_type": "code",
   "execution_count": null,
   "id": "8ff2a66a",
   "metadata": {},
   "outputs": [],
   "source": [
    "toomer_bio = \\\n",
    "\"\"\"\n",
    "Nathan Pinchback Tomer, who adopted the name Jean Tomer early in his literary career, was born in Washington, D.C. in 1894. Jean is the son of Nathan Tomer was a mixed-race freedman, born into slavery in 1839 in Chatham County, North Carolina. Jean Tomer is most well known for his first book Cane, which vividly portrays the life of African-Americans in southern farmlands.\n",
    "\"\"\"\n",
    "toomer_bio_fixed = toomer_bio.replace(\"Tomer\",\"Toomer\")"
   ]
  },
  {
   "cell_type": "code",
   "execution_count": null,
   "id": "da958f4a",
   "metadata": {},
   "outputs": [],
   "source": [
    "god_wills_it_line_one = \"The very earth will disown you\"\n",
    "\n",
    "disown_placement = god_wills_it_line_one.find(\"disown\")\n",
    "print(disown_placement)\n"
   ]
  },
  {
   "cell_type": "code",
   "execution_count": null,
   "id": "88d08c6f",
   "metadata": {},
   "outputs": [],
   "source": [
    "highlighted_poems = \"Afterimages:Audre Lorde:1997,  The Shadow:William Carlos Williams:1915, Ecstasy:Gabriela Mistral:1925,   Georgia Dusk:Jean Toomer:1923,   Parting Before Daybreak:An Qi:2014, The Untold Want:Walt Whitman:1871, Mr. Grumpledump's Song:Shel Silverstein:2004, Angel Sound Mexico City:Carmen Boullosa:2013, In Love:Kamala Suraiyya:1965, Dream Variations:Langston Hughes:1994, Dreamwood:Adrienne Rich:1987\"\n",
    "\n",
    "print(highlighted_poems)\n",
    "\n",
    "highlighted_poems_list = highlighted_poems.split(\",\")\n",
    "\n",
    "print(highlighted_poems_list)\n",
    "\n",
    "highlighted_poems_stripped = []\n",
    "\n",
    "# Cycle through and strip white space.\n",
    "x = 0\n",
    "for i in highlighted_poems_list:\n",
    "  highlighted_poems_stripped.append(highlighted_poems_list[x].strip())\n",
    "  x += 1\n",
    "\n",
    "print(highlighted_poems_stripped)\n",
    "\n",
    "# Split into useful list showing details\n",
    "highlighted_poems_details = []\n",
    "\n",
    "x = 0\n",
    "text = []\n",
    "\n",
    "for i in highlighted_poems_stripped:\n",
    "  text = highlighted_poems_stripped[x].split(\":\")\n",
    "  highlighted_poems_details.append(text)\n",
    "  x += 1"
   ]
  }
 ],
 "metadata": {
  "kernelspec": {
   "display_name": "Python 3 (ipykernel)",
   "language": "python",
   "name": "python3"
  },
  "language_info": {
   "codemirror_mode": {
    "name": "ipython",
    "version": 3
   },
   "file_extension": ".py",
   "mimetype": "text/x-python",
   "name": "python",
   "nbconvert_exporter": "python",
   "pygments_lexer": "ipython3",
   "version": "3.11.5"
  }
 },
 "nbformat": 4,
 "nbformat_minor": 5
}
